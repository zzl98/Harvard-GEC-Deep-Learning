{
  "nbformat": 4,
  "nbformat_minor": 0,
  "metadata": {
    "colab": {
      "name": "Lab4_colab.ipynb",
      "version": "0.3.2",
      "provenance": []
    },
    "kernelspec": {
      "name": "python3",
      "display_name": "Python 3"
    },
    "accelerator": "GPU"
  },
  "cells": [
    {
      "metadata": {
        "colab_type": "text",
        "id": "aEktuKZIuB3E"
      },
      "cell_type": "markdown",
      "source": [
        "# Deep Learning Part 2 : Lab 4\n",
        "## Autoencoders \n",
        "**GEC Academy: Winter 2019**  \n",
        "**Instructor**: Pavlos Protopapas,  \n",
        "**TFs :** Patrick Ohiomoba, Srivatsan Srinivasan\n",
        "\n",
        "---"
      ]
    },
    {
      "metadata": {
        "colab_type": "text",
        "id": "Gx2Hx5Dd6o5p"
      },
      "cell_type": "markdown",
      "source": [
        "## Table of Contents\n",
        "\n",
        "1. [Introduction](#Introduction)\n",
        "2. [Autoencoder Basics](#Preliminaries)\n",
        "3. [A Simple Fully Connected Autoencoder on MNIST](#Floydhub)\n"
      ]
    },
    {
      "metadata": {
        "colab_type": "text",
        "id": "8gSzSxE76o5s"
      },
      "cell_type": "markdown",
      "source": [
        "## Introduction"
      ]
    },
    {
      "metadata": {
        "colab_type": "text",
        "id": "TFJuZoWE6o5x"
      },
      "cell_type": "markdown",
      "source": [
        "In the last two lectures, we've continued our exploration of Deep Learning by learning about Representational Learning, Autoencoders, some alternative autoencoder architectures (Denoising Autoencoders, Convolutional Autoencoders, Sparse Autoencoders, Contractive Autoencoders, etc...) and went over in detail one generative class of autoencoders in particular Variational Autoencoders. In today's lab we will buttress our knowledge of this interesting type of unsupervised Deep Learning models by constructing (and analyzing) some implementations of autoencoders in Keras.  "
      ]
    },
    {
      "metadata": {
        "colab_type": "text",
        "id": "OfjkYijC6o5y"
      },
      "cell_type": "markdown",
      "source": [
        "## Autoencoder Basics"
      ]
    },
    {
      "metadata": {
        "colab_type": "text",
        "id": "-eWSbPbo6o50"
      },
      "cell_type": "markdown",
      "source": [
        "We learned in Lectures 4 and 5 what all about the various forms of autoencoders in deep learning, but as we often do let's turn to [Wikipedia](https://www.wikipedia.com) for a definition.  There we'll find that [autoencoders](https://en.wikipedia.org/wiki/Autoencoder) \n",
        "\n",
        "> An autoencoder is a type of artificial neural network used to learn efficient data codings in an unsupervised manner/   The aim of an autoencoder is to learn a representation (encoding) for a set of data, typically for dimensionality reduction, by training the network to ignore signal “noise.” Along with the reduction side, a reconstructing side is learnt, where the autoencoder tries to generate from the reduced encoding a representation as close as possible to its original input, hence its name. Recently, the autoencoder concept has become more widely used for learning generative models of data.\n",
        "\n",
        "\n",
        "![stole from Lecture](./images/autoencoder_lecture.png)\n",
        "\n",
        "Autoencoders perform their task -- whether that be compression, denoising or something else in an unsupervised way.  Let's assume we're creating an autoencoder for the purposes of data compression.  An autoencoder would not perform data compression in the same way that algorithms like JPEG or MPEG might -- on the basis of some overarching assumptions relating to the properties of sound, image and video data that then influence a resultant deterministic algorithm.   Autoencoders go about processing their input dataset and influenced by the examples within within automatically **learn** a lossy compression algorith. The resultant algorithm may generalize (largely depending on the completeness o the training data) but the algorithm is in reality specific to input data.\n",
        "\n",
        "\n",
        "Autoencoders have 3 fundamental components:\n",
        "\n",
        "- An Encoder (typically a neural network) approximating a function f(x) where x is the input\n",
        "- A Decoder (typically a neural network) approximating a function g(y) where y is the output of the encoder\n",
        "- A loss function (usually representing some metric on the difference between the original input x and g(f(x)) (i.e the output of encoding the input and decoding)\n",
        "\n",
        "\n",
        "**Uses of Autoencoders**\n",
        "\n",
        "- Data Denoising\n",
        "- Image/Information Retrieval\n",
        "- Anomaly/Fraud Detection\n",
        "- Dimension Reduction\n"
      ]
    },
    {
      "metadata": {
        "colab_type": "text",
        "id": "lLwzA4XT6o54"
      },
      "cell_type": "markdown",
      "source": [
        "## A Simple Fully Connected Autoencoder on MNIST"
      ]
    },
    {
      "metadata": {
        "colab_type": "text",
        "id": "Hhi-YEOB6o55"
      },
      "cell_type": "markdown",
      "source": [
        "Let's start as we often do by using the [MNIST data set](http://yann.lecun.com/exdb/mnist/) to explore a really simple  example of an autoencoder. Both our encoding and decoding network will be fully connected MLPs with 2 hidden layers.\n",
        "\n"
      ]
    },
    {
      "metadata": {
        "colab_type": "text",
        "id": "zk5-_2FM6o59"
      },
      "cell_type": "markdown",
      "source": [
        "#### Imports and Data Processing"
      ]
    },
    {
      "metadata": {
        "colab_type": "code",
        "id": "CG5ioJ5F6o5_",
        "colab": {}
      },
      "cell_type": "code",
      "source": [
        "import numpy as np\n",
        "import pandas as pd\n",
        "\n",
        "import keras\n",
        "from keras.models import Sequential, Model\n",
        "from keras.layers import Dropout, Flatten, Dense, Conv2D, MaxPooling2D, Input, Reshape, UpSampling2D\n",
        "from keras.utils import np_utils, to_categorical\n",
        "\n",
        "from keras.datasets import mnist\n",
        "\n",
        "import matplotlib.pyplot as plt\n",
        "%matplotlib inline"
      ],
      "execution_count": 0,
      "outputs": []
    },
    {
      "metadata": {
        "colab_type": "text",
        "id": "qZEsLpSe6o6H"
      },
      "cell_type": "markdown",
      "source": [
        "We need to load the datat from the mnist dataset (which comes with Keras), normalize and reshape it and turn the labels into categoricals.  We'll borrow some code from Lab 1."
      ]
    },
    {
      "metadata": {
        "colab_type": "code",
        "id": "iCpiaO5V6o6J",
        "colab": {}
      },
      "cell_type": "code",
      "source": [
        "# Load data and preprocess\n",
        "(train_images, train_labels), (test_images, test_labels) = mnist.load_data() # load MNIST data\n",
        "\n",
        "train_images = train_images.reshape((60000, 784)) # Reshape to get third dimension\n",
        "train_images = train_images.astype('float32') / 255 # Normalize between 0 and 1\n",
        "\n",
        "test_images = test_images.reshape((10000, 784)) # Reshape to get third dimension\n",
        "test_images = test_images.astype('float32') / 255 # Normalize between 0 and 1\n",
        "\n",
        "# Convert labels to categorical data\n",
        "train_labels = to_categorical(train_labels)\n",
        "test_labels = to_categorical(test_labels)"
      ],
      "execution_count": 0,
      "outputs": []
    },
    {
      "metadata": {
        "colab_type": "text",
        "id": "pTaNi7ly6o6Q"
      },
      "cell_type": "markdown",
      "source": [
        "#### Defining the Autoencoder\n",
        "\n",
        "We're going to create an autoencoder by first defining an MLP (the encoder) that takes the 28x28 images in the MNIST database and  converts them into a latent representation of dimension 20.  The decoder part of our autoencoder will take that network and convert it back to an output space with size 784 (which we'll reshape back into our 28x28 images).\n",
        "\n",
        "Let's start by building the encoder:"
      ]
    },
    {
      "metadata": {
        "colab_type": "code",
        "id": "YL-aV8p06o6S",
        "colab": {}
      },
      "cell_type": "code",
      "source": [
        "def build_mlp_encoder(input_size, bottleneck_size):\n",
        "\n",
        "    mlp_model = Sequential() # Create sequential model\n",
        "\n",
        "    # Add hidden layers\n",
        "    mlp_model.add(Dense(128, activation='relu', input_shape=(input_size, )))\n",
        "    mlp_model.add(Dense(64, activation='relu'))\n",
        "\n",
        "    # bottleneck layer\n",
        "    mlp_model.add(Dense(bottleneck_size, activation='relu'))\n",
        "\n",
        "    return mlp_model\n",
        "\n",
        "\n",
        "def build_mlp_decoder(input_size, bottleneck_size):\n",
        "    \n",
        "    mlp_model = Sequential() # Create sequential model\n",
        "\n",
        "    # Add network layers\n",
        "    mlp_model.add(Dense(64, activation='relu', input_shape= (bottleneck_size, )))    \n",
        "    mlp_model.add(Dense(128, activation='relu'))\n",
        "\n",
        "    mlp_model.add(Dense(input_size, activation='relu'))\n",
        "\n",
        "    return mlp_model"
      ],
      "execution_count": 0,
      "outputs": []
    },
    {
      "metadata": {
        "colab_type": "code",
        "id": "1T0hISIg6o6a",
        "outputId": "807660df-468e-45d1-e8f5-7c44ad63409a",
        "colab": {
          "base_uri": "https://localhost:8080/",
          "height": 89
        }
      },
      "cell_type": "code",
      "source": [
        "mlp_encoder = build_mlp_encoder(784, 20)"
      ],
      "execution_count": 4,
      "outputs": [
        {
          "output_type": "stream",
          "text": [
            "WARNING:tensorflow:From /usr/local/lib/python3.6/dist-packages/tensorflow/python/framework/op_def_library.py:263: colocate_with (from tensorflow.python.framework.ops) is deprecated and will be removed in a future version.\n",
            "Instructions for updating:\n",
            "Colocations handled automatically by placer.\n"
          ],
          "name": "stdout"
        }
      ]
    },
    {
      "metadata": {
        "colab_type": "code",
        "id": "CdvILucc6o6h",
        "colab": {}
      },
      "cell_type": "code",
      "source": [
        "mlp_decoder = build_mlp_decoder(784, 20)"
      ],
      "execution_count": 0,
      "outputs": []
    },
    {
      "metadata": {
        "colab_type": "code",
        "id": "iArqJVQP6o6o",
        "outputId": "4db7553c-f327-4cd1-92a6-e9b00e5ad89e",
        "colab": {
          "base_uri": "https://localhost:8080/",
          "height": 243
        }
      },
      "cell_type": "code",
      "source": [
        "mlp_encoder.summary()"
      ],
      "execution_count": 6,
      "outputs": [
        {
          "output_type": "stream",
          "text": [
            "_________________________________________________________________\n",
            "Layer (type)                 Output Shape              Param #   \n",
            "=================================================================\n",
            "dense_1 (Dense)              (None, 128)               100480    \n",
            "_________________________________________________________________\n",
            "dense_2 (Dense)              (None, 64)                8256      \n",
            "_________________________________________________________________\n",
            "dense_3 (Dense)              (None, 20)                1300      \n",
            "=================================================================\n",
            "Total params: 110,036\n",
            "Trainable params: 110,036\n",
            "Non-trainable params: 0\n",
            "_________________________________________________________________\n"
          ],
          "name": "stdout"
        }
      ]
    },
    {
      "metadata": {
        "colab_type": "code",
        "id": "GTzaXIrK6o61",
        "outputId": "036cf1ec-8881-4728-ca88-db479704d799",
        "colab": {
          "base_uri": "https://localhost:8080/",
          "height": 243
        }
      },
      "cell_type": "code",
      "source": [
        "mlp_decoder.summary()"
      ],
      "execution_count": 7,
      "outputs": [
        {
          "output_type": "stream",
          "text": [
            "_________________________________________________________________\n",
            "Layer (type)                 Output Shape              Param #   \n",
            "=================================================================\n",
            "dense_4 (Dense)              (None, 64)                1344      \n",
            "_________________________________________________________________\n",
            "dense_5 (Dense)              (None, 128)               8320      \n",
            "_________________________________________________________________\n",
            "dense_6 (Dense)              (None, 784)               101136    \n",
            "=================================================================\n",
            "Total params: 110,800\n",
            "Trainable params: 110,800\n",
            "Non-trainable params: 0\n",
            "_________________________________________________________________\n"
          ],
          "name": "stdout"
        }
      ]
    },
    {
      "metadata": {
        "colab_type": "text",
        "id": "oQAr3c1Y6o66"
      },
      "cell_type": "markdown",
      "source": [
        "So now that we've built our encoder and decoder networks, let's put them together into our autoencoder."
      ]
    },
    {
      "metadata": {
        "colab_type": "code",
        "id": "4b4yUoBe6o68",
        "colab": {}
      },
      "cell_type": "code",
      "source": [
        "def assemble_mlp_autoencoder(input_size, encoder, decoder):\n",
        "    \n",
        "    # assemble the inputs\n",
        "    inputs = Input(shape=(input_size,))\n",
        "    \n",
        "    # encode the inputs\n",
        "    encoding = encoder(inputs)\n",
        "    \n",
        "    # reconstruct the input from encoding\n",
        "    reconstruction = decoder(encoding)\n",
        "\n",
        "    autoencoder = Model(inputs=inputs, outputs=reconstruction)\n",
        "    autoencoder.compile(optimizer='adam', loss='mse')\n",
        "    \n",
        "    return autoencoder"
      ],
      "execution_count": 0,
      "outputs": []
    },
    {
      "metadata": {
        "colab_type": "text",
        "id": "jRRd-MqO6o7C"
      },
      "cell_type": "markdown",
      "source": [
        "Now we can fit and train our model"
      ]
    },
    {
      "metadata": {
        "colab_type": "code",
        "id": "Tdd5ar1z6o7E",
        "outputId": "c852465e-f21a-4095-a640-7d830284a564",
        "colab": {
          "base_uri": "https://localhost:8080/",
          "height": 645
        }
      },
      "cell_type": "code",
      "source": [
        "mlp_autoencoder = assemble_mlp_autoencoder(784, mlp_encoder, mlp_decoder)\n",
        "\n",
        "mlp_autoencoder.fit(x=train_images, y=train_images, epochs=15,\n",
        "                validation_data=[test_images, test_images])"
      ],
      "execution_count": 9,
      "outputs": [
        {
          "output_type": "stream",
          "text": [
            "WARNING:tensorflow:From /usr/local/lib/python3.6/dist-packages/tensorflow/python/ops/math_ops.py:3066: to_int32 (from tensorflow.python.ops.math_ops) is deprecated and will be removed in a future version.\n",
            "Instructions for updating:\n",
            "Use tf.cast instead.\n",
            "Train on 60000 samples, validate on 10000 samples\n",
            "Epoch 1/15\n",
            "60000/60000 [==============================] - 11s 192us/step - loss: 0.0293 - val_loss: 0.0223\n",
            "Epoch 2/15\n",
            "60000/60000 [==============================] - 11s 177us/step - loss: 0.0214 - val_loss: 0.0203\n",
            "Epoch 3/15\n",
            "60000/60000 [==============================] - 11s 179us/step - loss: 0.0201 - val_loss: 0.0193\n",
            "Epoch 4/15\n",
            "60000/60000 [==============================] - 11s 175us/step - loss: 0.0194 - val_loss: 0.0188\n",
            "Epoch 5/15\n",
            "60000/60000 [==============================] - 11s 178us/step - loss: 0.0189 - val_loss: 0.0182\n",
            "Epoch 6/15\n",
            "60000/60000 [==============================] - 11s 178us/step - loss: 0.0184 - val_loss: 0.0179\n",
            "Epoch 7/15\n",
            "60000/60000 [==============================] - 11s 180us/step - loss: 0.0178 - val_loss: 0.0173\n",
            "Epoch 8/15\n",
            "60000/60000 [==============================] - 11s 179us/step - loss: 0.0174 - val_loss: 0.0169\n",
            "Epoch 9/15\n",
            "60000/60000 [==============================] - 11s 178us/step - loss: 0.0171 - val_loss: 0.0168\n",
            "Epoch 10/15\n",
            "60000/60000 [==============================] - 11s 177us/step - loss: 0.0168 - val_loss: 0.0165\n",
            "Epoch 11/15\n",
            "60000/60000 [==============================] - 11s 179us/step - loss: 0.0166 - val_loss: 0.0164\n",
            "Epoch 12/15\n",
            "60000/60000 [==============================] - 11s 178us/step - loss: 0.0165 - val_loss: 0.0162\n",
            "Epoch 13/15\n",
            "60000/60000 [==============================] - 11s 175us/step - loss: 0.0164 - val_loss: 0.0163\n",
            "Epoch 14/15\n",
            "60000/60000 [==============================] - 11s 178us/step - loss: 0.0163 - val_loss: 0.0161\n",
            "Epoch 15/15\n",
            "60000/60000 [==============================] - 11s 178us/step - loss: 0.0162 - val_loss: 0.0159\n"
          ],
          "name": "stdout"
        },
        {
          "output_type": "execute_result",
          "data": {
            "text/plain": [
              "<keras.callbacks.History at 0x7fe72453e400>"
            ]
          },
          "metadata": {
            "tags": []
          },
          "execution_count": 9
        }
      ]
    },
    {
      "metadata": {
        "colab_type": "text",
        "id": "dBeoGtgG6o7T"
      },
      "cell_type": "markdown",
      "source": [
        "As with the simple autoencoder, we randomly sample 10 test images (the same ones as before). The reconstructed digits look much better than those from the single-layer autoencoder. This observation aligns with the reduction in validation loss after adding multiple layers to the autoencoder."
      ]
    },
    {
      "metadata": {
        "colab_type": "text",
        "id": "MRrjyLTT6o7V"
      },
      "cell_type": "markdown",
      "source": [
        "Below, we plot the latent representation of all the MNIST test images and their groundtruth label. As we can see, the clusters are already grouped together quite nicely."
      ]
    },
    {
      "metadata": {
        "colab_type": "code",
        "id": "cmyjzPd36o7p",
        "outputId": "faf1246d-aad6-4193-d9ac-5d5fe7eb8e80",
        "colab": {
          "base_uri": "https://localhost:8080/",
          "height": 268
        }
      },
      "cell_type": "code",
      "source": [
        "num_images = 10\n",
        "random_test_images = np.random.randint(test_images.shape[0], size=num_images)\n",
        "\n",
        "encoded_imgs = mlp_encoder.predict(test_images)\n",
        "decoded_imgs = mlp_autoencoder.predict(test_images)\n",
        "\n",
        "plt.figure(figsize=(18, 4))\n",
        "\n",
        "for i, image_idx in enumerate(random_test_images):\n",
        "    # original image\n",
        "    ax = plt.subplot(3, num_images, i + 1)\n",
        "    plt.imshow(test_images[image_idx].reshape(28, 28))\n",
        "    plt.gray()\n",
        "    ax.get_xaxis().set_visible(False)\n",
        "    ax.get_yaxis().set_visible(False)\n",
        "    \n",
        "    # encoded image\n",
        "    ax = plt.subplot(3, num_images, num_images + i + 1)\n",
        "    plt.imshow(encoded_imgs[image_idx].reshape(5, 4))\n",
        "    plt.gray()\n",
        "    ax.get_xaxis().set_visible(False)\n",
        "    ax.get_yaxis().set_visible(False)\n",
        "\n",
        "    # plot reconstructed image\n",
        "    ax = plt.subplot(3, num_images, 2*num_images + i + 1)\n",
        "    plt.imshow(decoded_imgs[image_idx].reshape(28, 28))\n",
        "    plt.gray()\n",
        "    ax.get_xaxis().set_visible(False)\n",
        "    ax.get_yaxis().set_visible(False)\n",
        "plt.show()"
      ],
      "execution_count": 11,
      "outputs": [
        {
          "output_type": "display_data",
          "data": {
            "image/png": "[encoded data removed]",
            "text/plain": [
              "<Figure size 1296x288 with 30 Axes>"
            ]
          },
          "metadata": {
            "tags": []
          }
        }
      ]
    },
    {
      "metadata": {
        "colab_type": "text",
        "id": "JOgqZKhY6o7z"
      },
      "cell_type": "markdown",
      "source": [
        "## A Convolutional Autoencoder on MNIST"
      ]
    },
    {
      "metadata": {
        "id": "HxhAQp_dCRxr",
        "colab_type": "text"
      },
      "cell_type": "markdown",
      "source": [
        "Now that we've explored a simple fully connected autoencoder, let's use a convolutional autoencoder architecture instead. What this means is our encoding and decoding models will be **convolutional neural networks** instead of fully-connected networks."
      ]
    },
    {
      "metadata": {
        "colab_type": "text",
        "id": "43AaafFZ6o77"
      },
      "cell_type": "markdown",
      "source": [
        "To build the convolutional autoencoder, we'll make use of `Conv2D` and `MaxPooling2D` layers for the encoder and `Conv2D` and `UpSampling2D` layers for the decoder. The encoded images are transformed to a 3D array of dimensions `4 x 4 x 8`, but to visualize the encoding, we'll flatten it to a vector of length 128. I tried to use an encoding dimension of 32 like above, but I kept getting subpar results.\n",
        "\n",
        "After the flattening layer, we reshape the image back to a `4 x 4 x 8` array before upsampling back to a `28 x 28 x 1` image."
      ]
    },
    {
      "metadata": {
        "colab_type": "code",
        "id": "BzP8iX0i6o78",
        "outputId": "a203fb89-d09a-4c25-9d5d-9ae02e32539f",
        "scrolled": false,
        "colab": {
          "base_uri": "https://localhost:8080/",
          "height": 625
        }
      },
      "cell_type": "code",
      "source": [
        "autoencoder = Sequential()\n",
        "\n",
        "# Encoder Layers\n",
        "autoencoder.add(Conv2D(16, (3, 3), activation='relu', padding='same', input_shape=x_train.shape[1:]))\n",
        "autoencoder.add(MaxPooling2D((2, 2), padding='same'))\n",
        "autoencoder.add(Conv2D(8, (3, 3), activation='relu', padding='same'))\n",
        "autoencoder.add(MaxPooling2D((2, 2), padding='same'))\n",
        "autoencoder.add(Conv2D(8, (3, 3), strides=(2,2), activation='relu', padding='same'))\n",
        "\n",
        "# Flatten encoding for visualization\n",
        "autoencoder.add(Flatten())\n",
        "autoencoder.add(Reshape((4, 4, 8)))\n",
        "\n",
        "# Decoder Layers\n",
        "autoencoder.add(Conv2D(8, (3, 3), activation='relu', padding='same'))\n",
        "autoencoder.add(UpSampling2D((2, 2)))\n",
        "autoencoder.add(Conv2D(8, (3, 3), activation='relu', padding='same'))\n",
        "autoencoder.add(UpSampling2D((2, 2)))\n",
        "autoencoder.add(Conv2D(16, (3, 3), activation='relu'))\n",
        "autoencoder.add(UpSampling2D((2, 2)))\n",
        "autoencoder.add(Conv2D(1, (3, 3), activation='sigmoid', padding='same'))\n",
        "\n",
        "autoencoder.summary()"
      ],
      "execution_count": 20,
      "outputs": [
        {
          "output_type": "stream",
          "text": [
            "_________________________________________________________________\n",
            "Layer (type)                 Output Shape              Param #   \n",
            "=================================================================\n",
            "conv2d_9 (Conv2D)            (None, 28, 28, 16)        160       \n",
            "_________________________________________________________________\n",
            "max_pooling2d_5 (MaxPooling2 (None, 14, 14, 16)        0         \n",
            "_________________________________________________________________\n",
            "conv2d_10 (Conv2D)           (None, 14, 14, 8)         1160      \n",
            "_________________________________________________________________\n",
            "max_pooling2d_6 (MaxPooling2 (None, 7, 7, 8)           0         \n",
            "_________________________________________________________________\n",
            "conv2d_11 (Conv2D)           (None, 4, 4, 8)           584       \n",
            "_________________________________________________________________\n",
            "flatten_3 (Flatten)          (None, 128)               0         \n",
            "_________________________________________________________________\n",
            "reshape_2 (Reshape)          (None, 4, 4, 8)           0         \n",
            "_________________________________________________________________\n",
            "conv2d_12 (Conv2D)           (None, 4, 4, 8)           584       \n",
            "_________________________________________________________________\n",
            "up_sampling2d_1 (UpSampling2 (None, 8, 8, 8)           0         \n",
            "_________________________________________________________________\n",
            "conv2d_13 (Conv2D)           (None, 8, 8, 8)           584       \n",
            "_________________________________________________________________\n",
            "up_sampling2d_2 (UpSampling2 (None, 16, 16, 8)         0         \n",
            "_________________________________________________________________\n",
            "conv2d_14 (Conv2D)           (None, 14, 14, 16)        1168      \n",
            "_________________________________________________________________\n",
            "up_sampling2d_3 (UpSampling2 (None, 28, 28, 16)        0         \n",
            "_________________________________________________________________\n",
            "conv2d_15 (Conv2D)           (None, 28, 28, 1)         145       \n",
            "=================================================================\n",
            "Total params: 4,385\n",
            "Trainable params: 4,385\n",
            "Non-trainable params: 0\n",
            "_________________________________________________________________\n"
          ],
          "name": "stdout"
        }
      ]
    },
    {
      "metadata": {
        "colab_type": "text",
        "id": "IriF8dv46o8G"
      },
      "cell_type": "markdown",
      "source": [
        "## Encoder Model\n",
        "\n",
        "To extract the encoder model for the autoencoder, we're going to use a slightly different approach than before. Rather than extracting the first 6 layers, we're going to create a new `Model` with the same input as the autoencoder, but the output will be that of the flattening layer. As a side note, this is a very useful technique for grabbing submodels for things like [transfer learning](http://ruder.io/transfer-learning/).\n",
        "\n",
        "As I mentioned before, the encoded image is a vector of length 128."
      ]
    },
    {
      "metadata": {
        "colab_type": "code",
        "id": "VRw7_U1Y6o8I",
        "outputId": "4eca4863-0508-4c17-db91-61d63ebf6337",
        "colab": {
          "base_uri": "https://localhost:8080/",
          "height": 306
        }
      },
      "cell_type": "code",
      "source": [
        "encoder = Model(inputs=autoencoder.input, outputs=autoencoder.get_layer('flatten_1').output)\n",
        "encoder.summary()"
      ],
      "execution_count": 21,
      "outputs": [
        {
          "output_type": "error",
          "ename": "ValueError",
          "evalue": "ignored",
          "traceback": [
            "\u001b[0;31m---------------------------------------------------------------------------\u001b[0m",
            "\u001b[0;31mValueError\u001b[0m                                Traceback (most recent call last)",
            "\u001b[0;32m<ipython-input-21-afa8d99dd33e>\u001b[0m in \u001b[0;36m<module>\u001b[0;34m()\u001b[0m\n\u001b[0;32m----> 1\u001b[0;31m \u001b[0mencoder\u001b[0m \u001b[0;34m=\u001b[0m \u001b[0mModel\u001b[0m\u001b[0;34m(\u001b[0m\u001b[0minputs\u001b[0m\u001b[0;34m=\u001b[0m\u001b[0mautoencoder\u001b[0m\u001b[0;34m.\u001b[0m\u001b[0minput\u001b[0m\u001b[0;34m,\u001b[0m \u001b[0moutputs\u001b[0m\u001b[0;34m=\u001b[0m\u001b[0mautoencoder\u001b[0m\u001b[0;34m.\u001b[0m\u001b[0mget_layer\u001b[0m\u001b[0;34m(\u001b[0m\u001b[0;34m'flatten_1'\u001b[0m\u001b[0;34m)\u001b[0m\u001b[0;34m.\u001b[0m\u001b[0moutput\u001b[0m\u001b[0;34m)\u001b[0m\u001b[0;34m\u001b[0m\u001b[0;34m\u001b[0m\u001b[0m\n\u001b[0m\u001b[1;32m      2\u001b[0m \u001b[0mencoder\u001b[0m\u001b[0;34m.\u001b[0m\u001b[0msummary\u001b[0m\u001b[0;34m(\u001b[0m\u001b[0;34m)\u001b[0m\u001b[0;34m\u001b[0m\u001b[0;34m\u001b[0m\u001b[0m\n",
            "\u001b[0;32m/usr/local/lib/python3.6/dist-packages/keras/engine/network.py\u001b[0m in \u001b[0;36mget_layer\u001b[0;34m(self, name, index)\u001b[0m\n\u001b[1;32m    356\u001b[0m                 \u001b[0;32mreturn\u001b[0m \u001b[0mlayer\u001b[0m\u001b[0;34m\u001b[0m\u001b[0;34m\u001b[0m\u001b[0m\n\u001b[1;32m    357\u001b[0m \u001b[0;34m\u001b[0m\u001b[0m\n\u001b[0;32m--> 358\u001b[0;31m         \u001b[0;32mraise\u001b[0m \u001b[0mValueError\u001b[0m\u001b[0;34m(\u001b[0m\u001b[0;34m'No such layer: '\u001b[0m \u001b[0;34m+\u001b[0m \u001b[0mname\u001b[0m\u001b[0;34m)\u001b[0m\u001b[0;34m\u001b[0m\u001b[0;34m\u001b[0m\u001b[0m\n\u001b[0m\u001b[1;32m    359\u001b[0m \u001b[0;34m\u001b[0m\u001b[0m\n\u001b[1;32m    360\u001b[0m     \u001b[0;34m@\u001b[0m\u001b[0mproperty\u001b[0m\u001b[0;34m\u001b[0m\u001b[0;34m\u001b[0m\u001b[0m\n",
            "\u001b[0;31mValueError\u001b[0m: No such layer: flatten_1"
          ]
        }
      ]
    },
    {
      "metadata": {
        "colab_type": "code",
        "id": "Y4DEEDn66o8R",
        "outputId": "bc4217de-df27-4361-eb18-28d206a2b796",
        "colab": {}
      },
      "cell_type": "code",
      "source": [
        "autoencoder.compile(optimizer='adam', loss='binary_crossentropy')\n",
        "autoencoder.fit(x_train, x_train,\n",
        "                epochs=100,\n",
        "                batch_size=128,\n",
        "                validation_data=(x_test, x_test))"
      ],
      "execution_count": 0,
      "outputs": [
        {
          "output_type": "stream",
          "text": [
            "Train on 60000 samples, validate on 10000 samples\n",
            "Epoch 1/100\n",
            "60000/60000 [==============================] - 69s 1ms/step - loss: 0.1986 - val_loss: 0.1361\n",
            "Epoch 2/100\n",
            "60000/60000 [==============================] - 69s 1ms/step - loss: 0.1252 - val_loss: 0.1153\n",
            "Epoch 3/100\n",
            "60000/60000 [==============================] - 68s 1ms/step - loss: 0.1128 - val_loss: 0.1081\n",
            "Epoch 4/100\n",
            "60000/60000 [==============================] - 68s 1ms/step - loss: 0.1072 - val_loss: 0.1039\n",
            "Epoch 5/100\n",
            "60000/60000 [==============================] - 69s 1ms/step - loss: 0.1033 - val_loss: 0.1004\n",
            "Epoch 6/100\n",
            "60000/60000 [==============================] - 69s 1ms/step - loss: 0.1004 - val_loss: 0.0979\n",
            "Epoch 7/100\n",
            "60000/60000 [==============================] - 69s 1ms/step - loss: 0.0983 - val_loss: 0.0963\n",
            "Epoch 8/100\n",
            "60000/60000 [==============================] - 69s 1ms/step - loss: 0.0966 - val_loss: 0.0944\n",
            "Epoch 9/100\n",
            "60000/60000 [==============================] - 69s 1ms/step - loss: 0.0952 - val_loss: 0.0933\n",
            "Epoch 10/100\n",
            "60000/60000 [==============================] - 69s 1ms/step - loss: 0.0940 - val_loss: 0.0921\n",
            "Epoch 11/100\n",
            "60000/60000 [==============================] - 68s 1ms/step - loss: 0.0929 - val_loss: 0.0912\n",
            "Epoch 12/100\n",
            "60000/60000 [==============================] - 69s 1ms/step - loss: 0.0921 - val_loss: 0.0906\n",
            "Epoch 13/100\n",
            "60000/60000 [==============================] - 69s 1ms/step - loss: 0.0912 - val_loss: 0.0896\n",
            "Epoch 14/100\n",
            "60000/60000 [==============================] - 68s 1ms/step - loss: 0.0905 - val_loss: 0.0891\n",
            "Epoch 15/100\n",
            "60000/60000 [==============================] - 65s 1ms/step - loss: 0.0899 - val_loss: 0.0885\n",
            "Epoch 16/100\n",
            "60000/60000 [==============================] - 65s 1ms/step - loss: 0.0894 - val_loss: 0.0884\n",
            "Epoch 17/100\n",
            "60000/60000 [==============================] - 65s 1ms/step - loss: 0.0888 - val_loss: 0.0875\n",
            "Epoch 18/100\n",
            "60000/60000 [==============================] - 65s 1ms/step - loss: 0.0884 - val_loss: 0.0871\n",
            "Epoch 19/100\n",
            "60000/60000 [==============================] - 65s 1ms/step - loss: 0.0880 - val_loss: 0.0868\n",
            "Epoch 20/100\n",
            "60000/60000 [==============================] - 65s 1ms/step - loss: 0.0876 - val_loss: 0.0863\n",
            "Epoch 21/100\n",
            "60000/60000 [==============================] - 65s 1ms/step - loss: 0.0872 - val_loss: 0.0861\n",
            "Epoch 22/100\n",
            "60000/60000 [==============================] - 65s 1ms/step - loss: 0.0869 - val_loss: 0.0859\n",
            "Epoch 23/100\n",
            "60000/60000 [==============================] - 65s 1ms/step - loss: 0.0867 - val_loss: 0.0855\n",
            "Epoch 24/100\n",
            "60000/60000 [==============================] - 65s 1ms/step - loss: 0.0864 - val_loss: 0.0855\n",
            "Epoch 25/100\n",
            "60000/60000 [==============================] - 65s 1ms/step - loss: 0.0862 - val_loss: 0.0853\n",
            "Epoch 26/100\n",
            "60000/60000 [==============================] - 66s 1ms/step - loss: 0.0860 - val_loss: 0.0854\n",
            "Epoch 27/100\n",
            "60000/60000 [==============================] - 65s 1ms/step - loss: 0.0858 - val_loss: 0.0848\n",
            "Epoch 28/100\n",
            "60000/60000 [==============================] - 65s 1ms/step - loss: 0.0856 - val_loss: 0.0846\n",
            "Epoch 29/100\n",
            "60000/60000 [==============================] - 65s 1ms/step - loss: 0.0855 - val_loss: 0.0845\n",
            "Epoch 30/100\n",
            "60000/60000 [==============================] - 65s 1ms/step - loss: 0.0853 - val_loss: 0.0842\n",
            "Epoch 31/100\n",
            "60000/60000 [==============================] - 65s 1ms/step - loss: 0.0852 - val_loss: 0.0843\n",
            "Epoch 32/100\n",
            "60000/60000 [==============================] - 65s 1ms/step - loss: 0.0851 - val_loss: 0.0843\n",
            "Epoch 33/100\n",
            "60000/60000 [==============================] - 65s 1ms/step - loss: 0.0849 - val_loss: 0.0841\n",
            "Epoch 34/100\n",
            "60000/60000 [==============================] - 65s 1ms/step - loss: 0.0848 - val_loss: 0.0837\n",
            "Epoch 35/100\n",
            "60000/60000 [==============================] - 72s 1ms/step - loss: 0.0847 - val_loss: 0.0837\n",
            "Epoch 36/100\n",
            "60000/60000 [==============================] - 70s 1ms/step - loss: 0.0846 - val_loss: 0.0838\n",
            "Epoch 37/100\n",
            "60000/60000 [==============================] - 71s 1ms/step - loss: 0.0845 - val_loss: 0.0834\n",
            "Epoch 38/100\n",
            "60000/60000 [==============================] - 70s 1ms/step - loss: 0.0843 - val_loss: 0.0833\n",
            "Epoch 39/100\n",
            "60000/60000 [==============================] - 2570s 43ms/step - loss: 0.0842 - val_loss: 0.0832\n",
            "Epoch 40/100\n",
            "60000/60000 [==============================] - 80s 1ms/step - loss: 0.0841 - val_loss: 0.0830\n",
            "Epoch 41/100\n",
            "60000/60000 [==============================] - 67s 1ms/step - loss: 0.0840 - val_loss: 0.0831\n",
            "Epoch 42/100\n",
            "60000/60000 [==============================] - 66s 1ms/step - loss: 0.0840 - val_loss: 0.0832\n",
            "Epoch 43/100\n",
            "60000/60000 [==============================] - 66s 1ms/step - loss: 0.0838 - val_loss: 0.0828\n",
            "Epoch 44/100\n",
            "60000/60000 [==============================] - 67s 1ms/step - loss: 0.0837 - val_loss: 0.0826\n",
            "Epoch 45/100\n",
            "60000/60000 [==============================] - 66s 1ms/step - loss: 0.0836 - val_loss: 0.0826\n",
            "Epoch 46/100\n",
            "60000/60000 [==============================] - 66s 1ms/step - loss: 0.0836 - val_loss: 0.0825\n",
            "Epoch 47/100\n",
            "60000/60000 [==============================] - 66s 1ms/step - loss: 0.0835 - val_loss: 0.0825\n",
            "Epoch 48/100\n",
            "60000/60000 [==============================] - 66s 1ms/step - loss: 0.0834 - val_loss: 0.0824\n",
            "Epoch 49/100\n",
            "60000/60000 [==============================] - 66s 1ms/step - loss: 0.0833 - val_loss: 0.0831\n",
            "Epoch 50/100\n",
            "60000/60000 [==============================] - 67s 1ms/step - loss: 0.0832 - val_loss: 0.0825\n",
            "Epoch 51/100\n",
            "60000/60000 [==============================] - 66s 1ms/step - loss: 0.0832 - val_loss: 0.0828\n",
            "Epoch 52/100\n",
            "60000/60000 [==============================] - 66s 1ms/step - loss: 0.0831 - val_loss: 0.0824\n",
            "Epoch 53/100\n",
            "60000/60000 [==============================] - 67s 1ms/step - loss: 0.0830 - val_loss: 0.0821\n",
            "Epoch 54/100\n",
            "60000/60000 [==============================] - 66s 1ms/step - loss: 0.0829 - val_loss: 0.0819\n",
            "Epoch 55/100\n",
            "60000/60000 [==============================] - 66s 1ms/step - loss: 0.0829 - val_loss: 0.0821\n",
            "Epoch 56/100\n",
            "60000/60000 [==============================] - 66s 1ms/step - loss: 0.0828 - val_loss: 0.0819\n",
            "Epoch 57/100\n",
            "60000/60000 [==============================] - 66s 1ms/step - loss: 0.0828 - val_loss: 0.0821\n",
            "Epoch 58/100\n",
            "60000/60000 [==============================] - 66s 1ms/step - loss: 0.0826 - val_loss: 0.0818\n",
            "Epoch 59/100\n",
            "60000/60000 [==============================] - 66s 1ms/step - loss: 0.0826 - val_loss: 0.0817\n",
            "Epoch 60/100\n",
            "60000/60000 [==============================] - 65s 1ms/step - loss: 0.0825 - val_loss: 0.0816\n",
            "Epoch 61/100\n",
            "60000/60000 [==============================] - 65s 1ms/step - loss: 0.0825 - val_loss: 0.0816\n",
            "Epoch 62/100\n",
            "60000/60000 [==============================] - 65s 1ms/step - loss: 0.0824 - val_loss: 0.0817\n",
            "Epoch 63/100\n",
            "60000/60000 [==============================] - 66s 1ms/step - loss: 0.0824 - val_loss: 0.0817\n",
            "Epoch 64/100\n",
            "60000/60000 [==============================] - 65s 1ms/step - loss: 0.0823 - val_loss: 0.0814\n",
            "Epoch 65/100\n",
            "60000/60000 [==============================] - 65s 1ms/step - loss: 0.0822 - val_loss: 0.0813\n",
            "Epoch 66/100\n",
            "60000/60000 [==============================] - 65s 1ms/step - loss: 0.0822 - val_loss: 0.0812\n",
            "Epoch 67/100\n",
            "60000/60000 [==============================] - 64s 1ms/step - loss: 0.0821 - val_loss: 0.0812\n",
            "Epoch 68/100\n",
            "60000/60000 [==============================] - 64s 1ms/step - loss: 0.0821 - val_loss: 0.0811\n",
            "Epoch 69/100\n",
            "60000/60000 [==============================] - 67s 1ms/step - loss: 0.0820 - val_loss: 0.0811\n",
            "Epoch 70/100\n",
            "60000/60000 [==============================] - 69s 1ms/step - loss: 0.0820 - val_loss: 0.0811\n",
            "Epoch 71/100\n",
            "60000/60000 [==============================] - 71s 1ms/step - loss: 0.0819 - val_loss: 0.0809\n",
            "Epoch 72/100\n",
            "60000/60000 [==============================] - 68s 1ms/step - loss: 0.0819 - val_loss: 0.0813\n",
            "Epoch 73/100\n",
            "60000/60000 [==============================] - 68s 1ms/step - loss: 0.0819 - val_loss: 0.0809\n",
            "Epoch 74/100\n",
            "60000/60000 [==============================] - 68s 1ms/step - loss: 0.0818 - val_loss: 0.0808\n",
            "Epoch 75/100\n",
            "60000/60000 [==============================] - 70s 1ms/step - loss: 0.0818 - val_loss: 0.0809\n",
            "Epoch 76/100\n",
            "60000/60000 [==============================] - 68s 1ms/step - loss: 0.0817 - val_loss: 0.0807\n",
            "Epoch 77/100\n",
            "60000/60000 [==============================] - 68s 1ms/step - loss: 0.0817 - val_loss: 0.0807\n",
            "Epoch 78/100\n",
            "60000/60000 [==============================] - 68s 1ms/step - loss: 0.0816 - val_loss: 0.0807\n",
            "Epoch 79/100\n",
            "60000/60000 [==============================] - 68s 1ms/step - loss: 0.0816 - val_loss: 0.0809\n",
            "Epoch 80/100\n",
            "60000/60000 [==============================] - 69s 1ms/step - loss: 0.0815 - val_loss: 0.0809\n",
            "Epoch 81/100\n",
            "60000/60000 [==============================] - 70s 1ms/step - loss: 0.0815 - val_loss: 0.0805\n",
            "Epoch 82/100\n",
            "60000/60000 [==============================] - 68s 1ms/step - loss: 0.0814 - val_loss: 0.0806\n",
            "Epoch 83/100\n",
            "60000/60000 [==============================] - 67s 1ms/step - loss: 0.0814 - val_loss: 0.0805\n",
            "Epoch 84/100\n",
            "60000/60000 [==============================] - 68s 1ms/step - loss: 0.0813 - val_loss: 0.0805\n",
            "Epoch 85/100\n",
            "60000/60000 [==============================] - 68s 1ms/step - loss: 0.0813 - val_loss: 0.0803\n",
            "Epoch 86/100\n",
            "60000/60000 [==============================] - 67s 1ms/step - loss: 0.0812 - val_loss: 0.0802\n",
            "Epoch 87/100\n",
            "60000/60000 [==============================] - 67s 1ms/step - loss: 0.0812 - val_loss: 0.0803\n",
            "Epoch 88/100\n",
            "60000/60000 [==============================] - 67s 1ms/step - loss: 0.0811 - val_loss: 0.0802\n",
            "Epoch 89/100\n",
            "60000/60000 [==============================] - 67s 1ms/step - loss: 0.0811 - val_loss: 0.0801\n",
            "Epoch 90/100\n",
            "60000/60000 [==============================] - 69s 1ms/step - loss: 0.0811 - val_loss: 0.0801\n",
            "Epoch 91/100\n",
            "60000/60000 [==============================] - 67s 1ms/step - loss: 0.0810 - val_loss: 0.0802\n",
            "Epoch 92/100\n",
            "60000/60000 [==============================] - 66s 1ms/step - loss: 0.0810 - val_loss: 0.0805\n",
            "Epoch 93/100\n",
            "60000/60000 [==============================] - 68s 1ms/step - loss: 0.0809 - val_loss: 0.0800\n",
            "Epoch 94/100\n",
            "60000/60000 [==============================] - 68s 1ms/step - loss: 0.0809 - val_loss: 0.0799\n",
            "Epoch 95/100\n",
            "60000/60000 [==============================] - 68s 1ms/step - loss: 0.0809 - val_loss: 0.0803\n",
            "Epoch 96/100\n",
            "60000/60000 [==============================] - 67s 1ms/step - loss: 0.0808 - val_loss: 0.0799\n",
            "Epoch 97/100\n",
            "60000/60000 [==============================] - 67s 1ms/step - loss: 0.0808 - val_loss: 0.0801\n",
            "Epoch 98/100\n",
            "60000/60000 [==============================] - 67s 1ms/step - loss: 0.0808 - val_loss: 0.0799\n",
            "Epoch 99/100\n",
            "60000/60000 [==============================] - 69s 1ms/step - loss: 0.0807 - val_loss: 0.0798\n",
            "Epoch 100/100\n",
            "60000/60000 [==============================] - 68s 1ms/step - loss: 0.0807 - val_loss: 0.0798\n"
          ],
          "name": "stdout"
        },
        {
          "output_type": "execute_result",
          "data": {
            "text/plain": [
              "<keras.callbacks.History at 0x182d375320>"
            ]
          },
          "metadata": {
            "tags": []
          },
          "execution_count": 16
        }
      ]
    },
    {
      "metadata": {
        "colab_type": "text",
        "id": "xSwgg0nh6o8V"
      },
      "cell_type": "markdown",
      "source": [
        "The reconstructed digits look even better than before. This is no surprise given an even lower validation loss. Other than slight improved reconstruction, check out how the encoded image has changed. What's even cooler is that the encoded images of the 9 look similar as do those of the 8's. This similarity was far less pronounced for the simple and deep autoencoders."
      ]
    },
    {
      "metadata": {
        "colab_type": "code",
        "id": "p1mPW2q_6o8W",
        "outputId": "a761a65b-276d-47fd-bb23-afe4478d9fd4",
        "colab": {}
      },
      "cell_type": "code",
      "source": [
        "num_images = 10\n",
        "np.random.seed(42)\n",
        "random_test_images = np.random.randint(x_test.shape[0], size=num_images)\n",
        "\n",
        "encoded_imgs = encoder.predict(x_test)\n",
        "decoded_imgs = autoencoder.predict(x_test)\n",
        "\n",
        "plt.figure(figsize=(18, 4))\n",
        "\n",
        "for i, image_idx in enumerate(random_test_images):\n",
        "    # plot original image\n",
        "    ax = plt.subplot(3, num_images, i + 1)\n",
        "    plt.imshow(x_test[image_idx].reshape(28, 28))\n",
        "    plt.gray()\n",
        "    ax.get_xaxis().set_visible(False)\n",
        "    ax.get_yaxis().set_visible(False)\n",
        "    \n",
        "    # plot encoded image\n",
        "    ax = plt.subplot(3, num_images, num_images + i + 1)\n",
        "    plt.imshow(encoded_imgs[image_idx].reshape(16, 8))\n",
        "    plt.gray()\n",
        "    ax.get_xaxis().set_visible(False)\n",
        "    ax.get_yaxis().set_visible(False)\n",
        "\n",
        "    # plot reconstructed image\n",
        "    ax = plt.subplot(3, num_images, 2*num_images + i + 1)\n",
        "    plt.imshow(decoded_imgs[image_idx].reshape(28, 28))\n",
        "    plt.gray()\n",
        "    ax.get_xaxis().set_visible(False)\n",
        "    ax.get_yaxis().set_visible(False)\n",
        "plt.show()"
      ],
      "execution_count": 0,
      "outputs": [
        {
          "output_type": "display_data",
          "data": {
            "image/png": "[encoded data removed]",
            "text/plain": [
              "<Figure size 1296x288 with 30 Axes>"
            ]
          },
          "metadata": {
            "tags": []
          }
        }
      ]
    },
    {
      "metadata": {
        "colab_type": "text",
        "id": "1Qv-E_yN6o8d"
      },
      "cell_type": "markdown",
      "source": [
        "# Denoising Images with the Convolutional Autoencoder\n",
        "\n",
        "Earlier, I mentioned that autoencoders are useful for denoising data including images. When I learned about this concept in grad school, my mind was blown. This simple task helped me realize data can be manipulated in very useful ways and that the dirty data we often inherit can be cleansed using more advanced techniques.\n",
        "\n",
        "With that in mind, let's add bit of noise to the test images and see how good the convolutional autoencoder is at removing the noise."
      ]
    },
    {
      "metadata": {
        "colab_type": "code",
        "id": "SxJtT5526o8f",
        "outputId": "e164d63f-be7e-4a63-ff5b-37dd5faf7adb",
        "colab": {}
      },
      "cell_type": "code",
      "source": [
        "x_train_noisy = x_train + np.random.normal(loc=0.0, scale=0.5, size=x_train.shape)\n",
        "x_train_noisy = np.clip(x_train_noisy, 0., 1.)\n",
        "\n",
        "x_test_noisy = x_test + np.random.normal(loc=0.0, scale=0.5, size=x_test.shape)\n",
        "x_test_noisy = np.clip(x_test_noisy, 0., 1.)\n",
        "\n",
        "num_images = 10\n",
        "np.random.seed(42)\n",
        "random_test_images = np.random.randint(x_test.shape[0], size=num_images)\n",
        "\n",
        "# Denoise test images\n",
        "x_test_denoised = autoencoder.predict(x_test_noisy)\n",
        "\n",
        "plt.figure(figsize=(18, 4))\n",
        "\n",
        "for i, image_idx in enumerate(random_test_images):\n",
        "    # plot original image\n",
        "    ax = plt.subplot(2, num_images, i + 1)\n",
        "    plt.imshow(x_test_noisy[image_idx].reshape(28, 28))\n",
        "    plt.gray()\n",
        "    ax.get_xaxis().set_visible(False)\n",
        "    ax.get_yaxis().set_visible(False)\n",
        "    \n",
        "    # plot reconstructed image\n",
        "    ax = plt.subplot(2, num_images, num_images + i + 1)\n",
        "    plt.imshow(x_test_denoised[image_idx].reshape(28, 28))\n",
        "    plt.gray()\n",
        "    ax.get_xaxis().set_visible(False)\n",
        "    ax.get_yaxis().set_visible(False)\n",
        "plt.show()"
      ],
      "execution_count": 0,
      "outputs": [
        {
          "output_type": "display_data",
          "data": {
            "image/png": "[encoded data removed]",
            "text/plain": [
              "<Figure size 1296x288 with 20 Axes>"
            ]
          },
          "metadata": {
            "tags": []
          }
        }
      ]
    },
    {
      "metadata": {
        "colab_type": "text",
        "id": "-8ZnSows6o8m"
      },
      "cell_type": "markdown",
      "source": [
        "# Convolutional Autoencoder - Take 2\n",
        "\n",
        "Well, those images are terrible. They remind me of the mask from the movie Scream.\n",
        "\n",
        "![Scream mask](https://ae01.alicdn.com/kf/HTB1ZxqFj6ihSKJjy0Feq6zJtpXaS/New-Scary-Ghost-Face-Scream-Mask-Creepy-for-Halloween-Masquerade-Party-Fancy-Dress-Costume.jpg)\n",
        "\n",
        "Okay, so let's try that again. This time we're going to build a ConvNet with a lot more parameters and forego visualizing the encoding layer. The network will be a bit larger and slower to train, but the results are definitely worth the effort.\n",
        "\n",
        "One more thing: this time, let's use `(x_train_noisy, x_train)` as training data and `(x_test_noisy, x_test)` as validation data."
      ]
    },
    {
      "metadata": {
        "colab_type": "code",
        "id": "HJGDCEuO6o8o",
        "outputId": "87c99d85-8b5f-4b51-8431-47e07e49b48a",
        "colab": {}
      },
      "cell_type": "code",
      "source": [
        "autoencoder = Sequential()\n",
        "\n",
        "# Encoder Layers\n",
        "autoencoder.add(Conv2D(32, (3, 3), activation='relu', padding='same', input_shape=x_train.shape[1:]))\n",
        "autoencoder.add(MaxPooling2D((2, 2), padding='same'))\n",
        "autoencoder.add(Conv2D(32, (3, 3), activation='relu', padding='same'))\n",
        "autoencoder.add(MaxPooling2D((2, 2), padding='same'))\n",
        "\n",
        "# Decoder Layers\n",
        "autoencoder.add(Conv2D(32, (3, 3), activation='relu', padding='same'))\n",
        "autoencoder.add(UpSampling2D((2, 2)))\n",
        "autoencoder.add(Conv2D(32, (3, 3), activation='relu', padding='same'))\n",
        "autoencoder.add(UpSampling2D((2, 2)))\n",
        "autoencoder.add(Conv2D(1, (3, 3), activation='sigmoid', padding='same'))\n",
        "\n",
        "autoencoder.summary()"
      ],
      "execution_count": 0,
      "outputs": [
        {
          "output_type": "stream",
          "text": [
            "_________________________________________________________________\n",
            "Layer (type)                 Output Shape              Param #   \n",
            "=================================================================\n",
            "conv2d_13 (Conv2D)           (None, 28, 28, 32)        320       \n",
            "_________________________________________________________________\n",
            "max_pooling2d_5 (MaxPooling2 (None, 14, 14, 32)        0         \n",
            "_________________________________________________________________\n",
            "conv2d_14 (Conv2D)           (None, 14, 14, 32)        9248      \n",
            "_________________________________________________________________\n",
            "max_pooling2d_6 (MaxPooling2 (None, 7, 7, 32)          0         \n",
            "_________________________________________________________________\n",
            "conv2d_15 (Conv2D)           (None, 7, 7, 32)          9248      \n",
            "_________________________________________________________________\n",
            "up_sampling2d_6 (UpSampling2 (None, 14, 14, 32)        0         \n",
            "_________________________________________________________________\n",
            "conv2d_16 (Conv2D)           (None, 14, 14, 32)        9248      \n",
            "_________________________________________________________________\n",
            "up_sampling2d_7 (UpSampling2 (None, 28, 28, 32)        0         \n",
            "_________________________________________________________________\n",
            "conv2d_17 (Conv2D)           (None, 28, 28, 1)         289       \n",
            "=================================================================\n",
            "Total params: 28,353\n",
            "Trainable params: 28,353\n",
            "Non-trainable params: 0\n",
            "_________________________________________________________________\n"
          ],
          "name": "stdout"
        }
      ]
    },
    {
      "metadata": {
        "colab_type": "code",
        "id": "iZYG7aXw6o8u",
        "outputId": "26603088-33ea-456b-a4c1-d44e0846316a",
        "colab": {}
      },
      "cell_type": "code",
      "source": [
        "autoencoder.compile(optimizer='adam', loss='binary_crossentropy')\n",
        "autoencoder.fit(x_train_noisy, x_train,\n",
        "                epochs=100,\n",
        "                batch_size=128,\n",
        "                validation_data=(x_test_noisy, x_test))"
      ],
      "execution_count": 0,
      "outputs": [
        {
          "output_type": "stream",
          "text": [
            "Train on 60000 samples, validate on 10000 samples\n",
            "Epoch 1/100\n",
            "60000/60000 [==============================] - 140s 2ms/step - loss: 0.1661 - val_loss: 0.1143\n",
            "Epoch 2/100\n",
            "60000/60000 [==============================] - 132s 2ms/step - loss: 0.1113 - val_loss: 0.1068\n",
            "Epoch 3/100\n",
            "60000/60000 [==============================] - 133s 2ms/step - loss: 0.1062 - val_loss: 0.1038\n",
            "Epoch 4/100\n",
            "60000/60000 [==============================] - 131s 2ms/step - loss: 0.1036 - val_loss: 0.1017\n",
            "Epoch 5/100\n",
            "60000/60000 [==============================] - 119s 2ms/step - loss: 0.1018 - val_loss: 0.1001\n",
            "Epoch 6/100\n",
            "60000/60000 [==============================] - 121s 2ms/step - loss: 0.1005 - val_loss: 0.0992\n",
            "Epoch 7/100\n",
            "60000/60000 [==============================] - 121s 2ms/step - loss: 0.0996 - val_loss: 0.0984\n",
            "Epoch 8/100\n",
            "60000/60000 [==============================] - 123s 2ms/step - loss: 0.0989 - val_loss: 0.0980\n",
            "Epoch 9/100\n",
            "60000/60000 [==============================] - 128s 2ms/step - loss: 0.0983 - val_loss: 0.0972\n",
            "Epoch 10/100\n",
            "60000/60000 [==============================] - 123s 2ms/step - loss: 0.0978 - val_loss: 0.0971\n",
            "Epoch 11/100\n",
            "60000/60000 [==============================] - 123s 2ms/step - loss: 0.0974 - val_loss: 0.0965\n",
            "Epoch 12/100\n",
            "60000/60000 [==============================] - 120s 2ms/step - loss: 0.0970 - val_loss: 0.0962\n",
            "Epoch 13/100\n",
            "60000/60000 [==============================] - 123s 2ms/step - loss: 0.0967 - val_loss: 0.0959\n",
            "Epoch 14/100\n",
            "60000/60000 [==============================] - 121s 2ms/step - loss: 0.0964 - val_loss: 0.0958\n",
            "Epoch 15/100\n",
            "60000/60000 [==============================] - 123s 2ms/step - loss: 0.0962 - val_loss: 0.0964\n",
            "Epoch 16/100\n",
            "60000/60000 [==============================] - 122s 2ms/step - loss: 0.0960 - val_loss: 0.0952\n",
            "Epoch 17/100\n",
            "60000/60000 [==============================] - 123s 2ms/step - loss: 0.0957 - val_loss: 0.0952\n",
            "Epoch 18/100\n",
            "60000/60000 [==============================] - 123s 2ms/step - loss: 0.0956 - val_loss: 0.0953\n",
            "Epoch 19/100\n",
            "60000/60000 [==============================] - 123s 2ms/step - loss: 0.0954 - val_loss: 0.0949\n",
            "Epoch 20/100\n",
            "60000/60000 [==============================] - 118s 2ms/step - loss: 0.0953 - val_loss: 0.0946\n",
            "Epoch 21/100\n",
            "60000/60000 [==============================] - 118s 2ms/step - loss: 0.0952 - val_loss: 0.0946\n",
            "Epoch 22/100\n",
            "60000/60000 [==============================] - 118s 2ms/step - loss: 0.0951 - val_loss: 0.0944\n",
            "Epoch 23/100\n",
            "60000/60000 [==============================] - 118s 2ms/step - loss: 0.0949 - val_loss: 0.0944\n",
            "Epoch 24/100\n",
            "60000/60000 [==============================] - 118s 2ms/step - loss: 0.0948 - val_loss: 0.0945\n",
            "Epoch 25/100\n",
            "60000/60000 [==============================] - 118s 2ms/step - loss: 0.0947 - val_loss: 0.0942\n",
            "Epoch 26/100\n",
            "60000/60000 [==============================] - 117s 2ms/step - loss: 0.0946 - val_loss: 0.0941\n",
            "Epoch 27/100\n",
            "60000/60000 [==============================] - 115s 2ms/step - loss: 0.0946 - val_loss: 0.0941\n",
            "Epoch 28/100\n",
            "60000/60000 [==============================] - 118s 2ms/step - loss: 0.0945 - val_loss: 0.0940\n",
            "Epoch 29/100\n",
            "60000/60000 [==============================] - 118s 2ms/step - loss: 0.0944 - val_loss: 0.0942\n",
            "Epoch 30/100\n",
            "60000/60000 [==============================] - 116s 2ms/step - loss: 0.0943 - val_loss: 0.0939\n",
            "Epoch 31/100\n",
            "60000/60000 [==============================] - 118s 2ms/step - loss: 0.0943 - val_loss: 0.0938\n",
            "Epoch 32/100\n",
            "60000/60000 [==============================] - 119s 2ms/step - loss: 0.0942 - val_loss: 0.0938\n",
            "Epoch 33/100\n",
            "60000/60000 [==============================] - 118s 2ms/step - loss: 0.0942 - val_loss: 0.0937\n",
            "Epoch 34/100\n",
            "60000/60000 [==============================] - 120s 2ms/step - loss: 0.0941 - val_loss: 0.0936\n",
            "Epoch 35/100\n",
            "60000/60000 [==============================] - 118s 2ms/step - loss: 0.0941 - val_loss: 0.0936\n",
            "Epoch 36/100\n",
            "60000/60000 [==============================] - 124s 2ms/step - loss: 0.0940 - val_loss: 0.0937\n",
            "Epoch 37/100\n",
            "60000/60000 [==============================] - 132s 2ms/step - loss: 0.0940 - val_loss: 0.0937\n",
            "Epoch 38/100\n",
            "60000/60000 [==============================] - 126s 2ms/step - loss: 0.0940 - val_loss: 0.0936\n",
            "Epoch 39/100\n",
            "60000/60000 [==============================] - 131s 2ms/step - loss: 0.0939 - val_loss: 0.0936\n",
            "Epoch 40/100\n",
            "60000/60000 [==============================] - 129s 2ms/step - loss: 0.0939 - val_loss: 0.0934\n",
            "Epoch 41/100\n",
            "60000/60000 [==============================] - 137s 2ms/step - loss: 0.0938 - val_loss: 0.0934\n",
            "Epoch 42/100\n",
            "60000/60000 [==============================] - 124s 2ms/step - loss: 0.0938 - val_loss: 0.0936\n",
            "Epoch 43/100\n",
            "60000/60000 [==============================] - 124s 2ms/step - loss: 0.0938 - val_loss: 0.0934\n",
            "Epoch 44/100\n",
            "60000/60000 [==============================] - 123s 2ms/step - loss: 0.0937 - val_loss: 0.0936\n",
            "Epoch 45/100\n",
            "60000/60000 [==============================] - 123s 2ms/step - loss: 0.0937 - val_loss: 0.0934\n",
            "Epoch 46/100\n",
            "60000/60000 [==============================] - 123s 2ms/step - loss: 0.0937 - val_loss: 0.0935\n",
            "Epoch 47/100\n",
            "60000/60000 [==============================] - 124s 2ms/step - loss: 0.0937 - val_loss: 0.0932\n",
            "Epoch 48/100\n",
            "60000/60000 [==============================] - 124s 2ms/step - loss: 0.0937 - val_loss: 0.0936\n",
            "Epoch 49/100\n",
            "60000/60000 [==============================] - 125s 2ms/step - loss: 0.0936 - val_loss: 0.0934\n",
            "Epoch 50/100\n",
            "60000/60000 [==============================] - 124s 2ms/step - loss: 0.0936 - val_loss: 0.0932\n",
            "Epoch 51/100\n",
            "60000/60000 [==============================] - 124s 2ms/step - loss: 0.0936 - val_loss: 0.0932\n",
            "Epoch 52/100\n",
            "60000/60000 [==============================] - 118s 2ms/step - loss: 0.0935 - val_loss: 0.0932\n",
            "Epoch 53/100\n",
            "60000/60000 [==============================] - 118s 2ms/step - loss: 0.0935 - val_loss: 0.0932\n",
            "Epoch 54/100\n",
            "60000/60000 [==============================] - 119s 2ms/step - loss: 0.0935 - val_loss: 0.0932\n",
            "Epoch 55/100\n",
            "60000/60000 [==============================] - 118s 2ms/step - loss: 0.0935 - val_loss: 0.0940\n",
            "Epoch 56/100\n",
            "60000/60000 [==============================] - 119s 2ms/step - loss: 0.0935 - val_loss: 0.0932\n",
            "Epoch 57/100\n",
            "60000/60000 [==============================] - 119s 2ms/step - loss: 0.0934 - val_loss: 0.0931\n",
            "Epoch 58/100\n",
            "60000/60000 [==============================] - 118s 2ms/step - loss: 0.0934 - val_loss: 0.0932\n",
            "Epoch 59/100\n",
            "60000/60000 [==============================] - 118s 2ms/step - loss: 0.0934 - val_loss: 0.0932\n",
            "Epoch 60/100\n",
            "60000/60000 [==============================] - 117s 2ms/step - loss: 0.0934 - val_loss: 0.0938\n",
            "Epoch 61/100\n",
            "60000/60000 [==============================] - 117s 2ms/step - loss: 0.0934 - val_loss: 0.0930\n",
            "Epoch 62/100\n",
            "60000/60000 [==============================] - 118s 2ms/step - loss: 0.0933 - val_loss: 0.0930\n",
            "Epoch 63/100\n",
            "60000/60000 [==============================] - 118s 2ms/step - loss: 0.0934 - val_loss: 0.0932\n",
            "Epoch 64/100\n",
            "60000/60000 [==============================] - 118s 2ms/step - loss: 0.0933 - val_loss: 0.0933\n",
            "Epoch 65/100\n",
            "60000/60000 [==============================] - 119s 2ms/step - loss: 0.0933 - val_loss: 0.0930\n",
            "Epoch 66/100\n",
            "60000/60000 [==============================] - 118s 2ms/step - loss: 0.0933 - val_loss: 0.0931\n",
            "Epoch 67/100\n",
            "60000/60000 [==============================] - 118s 2ms/step - loss: 0.0933 - val_loss: 0.0933\n",
            "Epoch 68/100\n",
            "60000/60000 [==============================] - 118s 2ms/step - loss: 0.0933 - val_loss: 0.0933\n",
            "Epoch 69/100\n",
            "60000/60000 [==============================] - 119s 2ms/step - loss: 0.0932 - val_loss: 0.0932\n",
            "Epoch 70/100\n",
            "60000/60000 [==============================] - 114s 2ms/step - loss: 0.0932 - val_loss: 0.0930\n",
            "Epoch 71/100\n",
            "60000/60000 [==============================] - 118s 2ms/step - loss: 0.0932 - val_loss: 0.0931\n",
            "Epoch 72/100\n",
            "60000/60000 [==============================] - 118s 2ms/step - loss: 0.0932 - val_loss: 0.0938\n",
            "Epoch 73/100\n",
            "60000/60000 [==============================] - 118s 2ms/step - loss: 0.0932 - val_loss: 0.0937\n",
            "Epoch 74/100\n",
            "60000/60000 [==============================] - 119s 2ms/step - loss: 0.0932 - val_loss: 0.0932\n",
            "Epoch 75/100\n",
            "60000/60000 [==============================] - 118s 2ms/step - loss: 0.0932 - val_loss: 0.0929\n",
            "Epoch 76/100\n",
            "60000/60000 [==============================] - 118s 2ms/step - loss: 0.0932 - val_loss: 0.0929\n",
            "Epoch 77/100\n",
            "60000/60000 [==============================] - 118s 2ms/step - loss: 0.0931 - val_loss: 0.0929\n",
            "Epoch 78/100\n",
            "60000/60000 [==============================] - 118s 2ms/step - loss: 0.0932 - val_loss: 0.0934\n",
            "Epoch 79/100\n",
            "60000/60000 [==============================] - 118s 2ms/step - loss: 0.0932 - val_loss: 0.0929\n",
            "Epoch 80/100\n",
            "60000/60000 [==============================] - 117s 2ms/step - loss: 0.0932 - val_loss: 0.0930\n",
            "Epoch 81/100\n",
            "60000/60000 [==============================] - 118s 2ms/step - loss: 0.0931 - val_loss: 0.0929\n",
            "Epoch 82/100\n",
            "60000/60000 [==============================] - 119s 2ms/step - loss: 0.0931 - val_loss: 0.0929\n",
            "Epoch 83/100\n",
            "60000/60000 [==============================] - 119s 2ms/step - loss: 0.0931 - val_loss: 0.0931\n",
            "Epoch 84/100\n",
            "60000/60000 [==============================] - 119s 2ms/step - loss: 0.0931 - val_loss: 0.0930\n",
            "Epoch 85/100\n",
            "60000/60000 [==============================] - 118s 2ms/step - loss: 0.0931 - val_loss: 0.0929\n",
            "Epoch 86/100\n",
            "60000/60000 [==============================] - 118s 2ms/step - loss: 0.0931 - val_loss: 0.0929\n",
            "Epoch 87/100\n",
            "60000/60000 [==============================] - 120s 2ms/step - loss: 0.0930 - val_loss: 0.0929\n",
            "Epoch 88/100\n",
            "60000/60000 [==============================] - 128s 2ms/step - loss: 0.0931 - val_loss: 0.0929\n",
            "Epoch 89/100\n",
            "60000/60000 [==============================] - 122s 2ms/step - loss: 0.0930 - val_loss: 0.0930\n",
            "Epoch 90/100\n",
            "60000/60000 [==============================] - 125s 2ms/step - loss: 0.0930 - val_loss: 0.0931\n",
            "Epoch 91/100\n",
            "60000/60000 [==============================] - 128s 2ms/step - loss: 0.0930 - val_loss: 0.0929\n",
            "Epoch 92/100\n",
            "60000/60000 [==============================] - 122s 2ms/step - loss: 0.0930 - val_loss: 0.0930\n",
            "Epoch 93/100\n",
            "60000/60000 [==============================] - 130s 2ms/step - loss: 0.0930 - val_loss: 0.0928\n",
            "Epoch 94/100\n",
            "60000/60000 [==============================] - 125s 2ms/step - loss: 0.0930 - val_loss: 0.0929\n",
            "Epoch 95/100\n",
            "60000/60000 [==============================] - 132s 2ms/step - loss: 0.0930 - val_loss: 0.0928\n",
            "Epoch 96/100\n",
            "60000/60000 [==============================] - 127s 2ms/step - loss: 0.0930 - val_loss: 0.0928\n",
            "Epoch 97/100\n",
            "60000/60000 [==============================] - 126s 2ms/step - loss: 0.0930 - val_loss: 0.0927\n",
            "Epoch 98/100\n",
            "60000/60000 [==============================] - 126s 2ms/step - loss: 0.0930 - val_loss: 0.0927\n",
            "Epoch 99/100\n",
            "60000/60000 [==============================] - 126s 2ms/step - loss: 0.0930 - val_loss: 0.0928\n",
            "Epoch 100/100\n",
            "60000/60000 [==============================] - 124s 2ms/step - loss: 0.0929 - val_loss: 0.0932\n"
          ],
          "name": "stdout"
        },
        {
          "output_type": "execute_result",
          "data": {
            "text/plain": [
              "<keras.callbacks.History at 0x182fb17160>"
            ]
          },
          "metadata": {
            "tags": []
          },
          "execution_count": 22
        }
      ]
    },
    {
      "metadata": {
        "colab_type": "code",
        "id": "cWYcOSsU6o80",
        "outputId": "6e80b28c-d921-4fd0-ff39-9a8b438005c3",
        "colab": {}
      },
      "cell_type": "code",
      "source": [
        "# Denoise test images\n",
        "x_test_denoised = autoencoder.predict(x_test_noisy)\n",
        "\n",
        "plt.figure(figsize=(18, 4))\n",
        "\n",
        "for i, image_idx in enumerate(random_test_images):\n",
        "    # plot original image\n",
        "    ax = plt.subplot(2, num_images, i + 1)\n",
        "    plt.imshow(x_test_noisy[image_idx].reshape(28, 28))\n",
        "    plt.gray()\n",
        "    ax.get_xaxis().set_visible(False)\n",
        "    ax.get_yaxis().set_visible(False)\n",
        "    \n",
        "    # plot reconstructed image\n",
        "    ax = plt.subplot(2, num_images, num_images + i + 1)\n",
        "    plt.imshow(x_test_denoised[image_idx].reshape(28, 28))\n",
        "    plt.gray()\n",
        "    ax.get_xaxis().set_visible(False)\n",
        "    ax.get_yaxis().set_visible(False)\n",
        "plt.show()"
      ],
      "execution_count": 0,
      "outputs": [
        {
          "output_type": "display_data",
          "data": {
            "image/png": "[encoded data removed]",
            "text/plain": [
              "<Figure size 1296x288 with 20 Axes>"
            ]
          },
          "metadata": {
            "tags": []
          }
        }
      ]
    },
    {
      "metadata": {
        "colab_type": "text",
        "id": "StR-qGwo6o86"
      },
      "cell_type": "markdown",
      "source": [
        "Fantastic, those images almost look like the originals."
      ]
    },
    {
      "metadata": {
        "colab_type": "code",
        "id": "75KM5fFc6o88",
        "colab": {}
      },
      "cell_type": "code",
      "source": [
        ""
      ],
      "execution_count": 0,
      "outputs": []
    }
  ]
}